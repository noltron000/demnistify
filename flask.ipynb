{
cells: [
{
cell_type: "markdown",
metadata: { },
source: [
"## Learning Objectives ",
" ",
"1- What we learn in DS 2.3 ",
" ",
"2- What is argparser ",
" ",
"3- Implement a easy Python App in Flask and Flask-Restplus"
]
},
{
cell_type: "markdown",
metadata: { },
source: [
"## Tagging Influencers on Instagram ",
" ",
"Lets watch my interview presenation at Make School ",
" ",
"### Text-based keyword extraction and categorization: ",
" ",
"Collect the most 12 recent captions for an influencer ",
" ",
"1- Preprocessing: hashtag, emoji’s, URL and html removal, non-English words removal, English number removal ",
" ",
"2- Keyword extraction algorithm in NLP including: LDA, TF-IDF, TextRank ",
" ",
"3- Keyword List = keyword extraction algorithms + top n words + top m hashtags ",
" ",
"4- Remove non-informative words from Keyword list: People names, city names, adverbs, adjectives, colors, non-informative list including words that are related to time ",
" ",
"5- Keyword to category mapping: Word2Vec (Glove) ",
" ",
"### Image-based keyword extraction and categorization: ",
" ",
"1- Use Google Vision API to get the top 5 (any number is possible) labels per image ",
" ",
" "
]
},
{
cell_type: "markdown",
metadata: { },
source: [
"## Integration of tagging API with MuseFind Platform: ",
" ",
"- The big file, glove.840B.300d.txt, is stored in AWS S3 ",
" ",
"- The tagging algorithm read Glove by Boto and smart_open ",
" ",
"- The tagging algorithm would be live (the interface is Flask Restful API) on EC2 and is deployed by Docker ",
" ",
"- The result of tagging algorithm is returned to Platform API in JSON format ",
" ",
"- The result of tagging algorithm would be saved on Database and managed by Platform API ",
" ",
"<img src="Images/MuseFind.png" width="400" height="400"> "
]
},
{
cell_type: "markdown",
metadata: { },
source: [
"## Argparser in Python ",
" ",
"https://www.youtube.com/watch?v=cdblJqEUDNo"
]
},
{
cell_type: "markdown",
metadata: { },
source: [
"## Write a Flask App that takes two numbers and return the addition"
]
},
{
cell_type: "code",
execution_count: null,
metadata: { },
outputs: [ ],
source: [
"# http://hplgit.github.io/web4sciapps/doc/pub/._part0004_web4sa_flask.html ",
" ",
"from flask import Flask, render_template, request ",
"from wtforms import Form, FloatField, validators ",
"from compute import compute ",
" ",
"app = Flask(__name__) ",
" ",
"# Model ",
"class InputForm(Form): ",
" r = FloatField(validators=[validators.InputRequired()]) ",
" ",
"# View ",
"@app.route('/hw1', methods=['GET', 'POST']) ",
"def index(): ",
" form = InputForm(request.form) ",
" if request.method == 'POST' and form.validate(): ",
" r = form.r.data ",
" s = compute(r) ",
" return render_template("view_output.html", form=form, s=s) ",
" else: ",
" return render_template("view_input.html", form=form) ",
" ",
"if __name__ == '__main__': ",
" app.run(debug=True)"
]
},
{
cell_type: "code",
execution_count: null,
metadata: { },
outputs: [ ],
source: [
"## Adding two numbers"
]
},
{
cell_type: "code",
execution_count: null,
metadata: { },
outputs: [ ],
source: [
"from flask import Flask, request, jsonify ",
"app = Flask(__name__) ",
" ",
" ",
"def summation(a, b): ",
" return a + b ",
" ",
" ",
"@app.route('/', methods=['GET']) ",
"def my_route(): ",
" n = request.args.get('n', type=int) ",
" m = request.args.get('m', type=int) ",
" r = summation(n, m) ",
" print(r) ",
" return jsonify({'add': r}) ",
" ",
" ",
"if __name__ == "__main__": ",
" app.run(host='0.0.0.0', port=3000)"
]
},
{
cell_type: "code",
execution_count: null,
metadata: { },
outputs: [ ],
source: [
"curl "http://0.0.0.0:3000/?n=2&m=3""
]
},
{
cell_type: "markdown",
metadata: { },
source: [
"## Use Flask Restplus"
]
},
{
cell_type: "code",
execution_count: null,
metadata: { },
outputs: [ ],
source: [
"from flask_restplus import Api, Resource, fields ",
"from flask import Flask, jsonify, request, make_response, abort, render_template, redirect, url_for ",
" ",
"app = Flask(__name__) ",
"api = Api(app, version='1.0', title='MuseFind Tagging API', description='Automated Tagging By NLP') ",
"ns = api.namespace('MuseFind_api', description='Methods') ",
"single_parser = api.parser() ",
"single_parser.add_argument('n', type=int, required=True, help= 'first number') ",
"single_parser.add_argument('m', type=int, required=True, help= 'second number') ",
" ",
" ",
"def summation(a, b): ",
" return a+b ",
" ",
" ",
"@ns.route('/addition') ",
"class Addition(Resource): ",
" """Uploads your data to the recommender system""" ",
" @api.doc(parser=single_parser, description='Enter Two Integers') ",
" def get(self): ",
" """Uploads a new transaction to Rex (Click to see more)""" ",
" args = single_parser.parse_args() ",
" n1 = args.n ",
" m1 = args.m ",
" r = summation(n1, m1) ",
" print(r) ",
" return {'add': r} ",
" ",
" ",
"if __name__ == '__main__': ",
" app.run(host='0.0.0.0', port=3000)"
]
}
],
metadata: {
kernelspec: {
display_name: "Python 3",
language: "python",
name: "python3"
},
language_info: {
codemirror_mode: {
name: "ipython",
version: 3
},
file_extension: ".py",
mimetype: "text/x-python",
name: "python",
nbconvert_exporter: "python",
pygments_lexer: "ipython3",
version: "3.6.5"
}
},
nbformat: 4,
nbformat_minor: 2
}
