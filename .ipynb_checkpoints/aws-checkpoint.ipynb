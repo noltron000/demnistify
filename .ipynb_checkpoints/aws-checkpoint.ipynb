{
 "cells": [
  {
   "cell_type": "markdown",
   "metadata": {},
   "source": [
    "## Learning Objectives\n",
    "\n",
    "- How we can dockerize the ML or DL model\n",
    "\n",
    "- How we can deploy the docker image on AWS\n",
    "\n",
    "- Learn about useful docker commands"
   ]
  },
  {
   "cell_type": "markdown",
   "metadata": {},
   "source": [
    "## What is Docker? \n",
    "\n",
    "- Docker is a container management service\n",
    "\n",
    "- The keywords of Docker are develop, ship and run anywhere\n",
    "\n",
    "-  It provides tools for simplifying DevOps by enabling developers to create templates called images that can be used to create lightweight virtual machines called containers, which include their applications and all of their applications’ dependencies.\n",
    "\n",
    "## How we can deploy the ML or DL model on cloud (AWS)?"
   ]
  },
  {
   "cell_type": "markdown",
   "metadata": {},
   "source": [
    "### First step for Dockerize the Flask API"
   ]
  },
  {
   "cell_type": "code",
   "execution_count": 3,
   "metadata": {},
   "outputs": [
    {
     "name": "stdout",
     "output_type": "stream",
     "text": [
      "input_shape\n",
      "(28, 28, 1)\n",
      "x_train shape: (60000, 28, 28, 1)\n",
      "60000 train samples\n",
      "10000 test samples\n",
      "Train on 60000 samples, validate on 10000 samples\n",
      "Epoch 1/5\n",
      "60000/60000 [==============================] - 120s 2ms/step - loss: 0.2636 - acc: 0.9183 - val_loss: 0.0599 - val_acc: 0.9801\n",
      "Epoch 2/5\n",
      "60000/60000 [==============================] - 123s 2ms/step - loss: 0.0929 - acc: 0.9723 - val_loss: 0.0422 - val_acc: 0.9861\n",
      "Epoch 3/5\n",
      "60000/60000 [==============================] - 124s 2ms/step - loss: 0.0690 - acc: 0.9796 - val_loss: 0.0362 - val_acc: 0.9877\n",
      "Epoch 4/5\n",
      "60000/60000 [==============================] - 124s 2ms/step - loss: 0.0560 - acc: 0.9832 - val_loss: 0.0328 - val_acc: 0.9889\n",
      "Epoch 5/5\n",
      "60000/60000 [==============================] - 118s 2ms/step - loss: 0.0481 - acc: 0.9854 - val_loss: 0.0302 - val_acc: 0.9898\n",
      "Test loss: 0.030232381611713207\n",
      "Test accuracy: 0.9898\n",
      "M:\n",
      "[0. 0. 0. 0. 0. 0. 0. 1. 0. 0.]\n",
      "(28, 28, 1)\n",
      "[2.0545217e-10 4.4045403e-09 4.0837971e-08 4.8953228e-07 6.0790657e-11\n",
      " 2.6974056e-10 3.5920363e-13 9.9999928e-01 2.1442772e-09 2.8271577e-07]\n",
      "7\n"
     ]
    }
   ],
   "source": [
    "# Train, Evaluate and Save the DL Model\n",
    "\n",
    "\n",
    "from __future__ import print_function\n",
    "import keras\n",
    "from keras.datasets import mnist\n",
    "from keras.models import Sequential\n",
    "from keras.layers import Dense, Dropout, Flatten\n",
    "from keras.layers import Conv2D, MaxPooling2D\n",
    "from keras import backend as K\n",
    "import numpy as np\n",
    "\n",
    "\n",
    "batch_size = 128\n",
    "num_classes = 10\n",
    "epochs = 5\n",
    "\n",
    "# input image dimensions\n",
    "img_rows, img_cols = 28, 28\n",
    "\n",
    "# the data, split between train and test sets\n",
    "(x_train, y_train), (x_test, y_test) = mnist.load_data()\n",
    "\n",
    "if K.image_data_format() == 'channels_first':\n",
    "\tx_train = x_train.reshape(x_train.shape[0], 1, img_rows, img_cols)\n",
    "\tx_test = x_test.reshape(x_test.shape[0], 1, img_rows, img_cols)\n",
    "\tinput_shape = (1, img_rows, img_cols)\n",
    "else:\n",
    "\tx_train = x_train.reshape(x_train.shape[0], img_rows, img_cols, 1)\n",
    "\tx_test = x_test.reshape(x_test.shape[0], img_rows, img_cols, 1)\n",
    "\tinput_shape = (img_rows, img_cols, 1)\n",
    "\n",
    "print('input_shape')\n",
    "print(input_shape)\n",
    "x_train = x_train.astype('float32')\n",
    "x_test = x_test.astype('float32')\n",
    "x_train /= 255\n",
    "x_test /= 255\n",
    "print('x_train shape:', x_train.shape)\n",
    "print(x_train.shape[0], 'train samples')\n",
    "print(x_test.shape[0], 'test samples')\n",
    "\n",
    "# convert class vectors to binary class matrices\n",
    "y_train = keras.utils.to_categorical(y_train, num_classes)\n",
    "y_test = keras.utils.to_categorical(y_test, num_classes)\n",
    "\n",
    "model = Sequential()\n",
    "model.add(Conv2D(32, kernel_size=(3, 3),\n",
    "\tactivation='relu',\n",
    "\tinput_shape=input_shape))\n",
    "model.add(Conv2D(64, (3, 3), activation='relu'))\n",
    "model.add(MaxPooling2D(pool_size=(2, 2)))\n",
    "model.add(Dropout(0.25))\n",
    "model.add(Flatten())\n",
    "model.add(Dense(128, activation='relu'))\n",
    "model.add(Dropout(0.5))\n",
    "model.add(Dense(num_classes, activation='softmax'))\n",
    "\n",
    "model.compile(loss=keras.losses.categorical_crossentropy,\n",
    "\toptimizer=keras.optimizers.Adadelta(),\n",
    "\tmetrics=['accuracy'])\n",
    "\n",
    "model.fit(x_train, y_train,\n",
    "\tbatch_size=batch_size,\n",
    "\tepochs=epochs,\n",
    "\tverbose=1,\n",
    "\tvalidation_data=(x_test, y_test))\n",
    "model.save('my_model.h5')\n",
    "\n",
    "# # Save the weights\n",
    "# model.save_weights('model_weights.h5')\n",
    "# # Save the model architecture\n",
    "# with open('model_architecture.json', 'w') as f:\n",
    "#     f.write(model.to_json())\n",
    "\n",
    "score = model.evaluate(x_test, y_test, verbose=0)\n",
    "print('Test loss:', score[0])\n",
    "print('Test accuracy:', score[1])\n",
    "print('M:')\n",
    "print(y_test[0])\n",
    "print(x_test[0].shape)\n",
    "x = x_test[0].reshape(1, 28, 28, 1)\n",
    "out = model.predict(x)\n",
    "print(out[0])\n",
    "print(np.argmax(out[0]))"
   ]
  },
  {
   "cell_type": "markdown",
   "metadata": {},
   "source": [
    "### Second step for Dockerize the Flask API"
   ]
  },
  {
   "cell_type": "code",
   "execution_count": null,
   "metadata": {},
   "outputs": [
    {
     "name": "stderr",
     "output_type": "stream",
     "text": [
      "Using TensorFlow backend.\n",
      "/Users/nolansmac/anaconda3/lib/python3.7/site-packages/tensorflow/python/framework/dtypes.py:523: FutureWarning: Passing (type, 1) or '1type' as a synonym of type is deprecated; in a future version of numpy, it will be understood as (type, (1,)) / '(1,)type'.\n",
      "  _np_qint8 = np.dtype([(\"qint8\", np.int8, 1)])\n",
      "/Users/nolansmac/anaconda3/lib/python3.7/site-packages/tensorflow/python/framework/dtypes.py:524: FutureWarning: Passing (type, 1) or '1type' as a synonym of type is deprecated; in a future version of numpy, it will be understood as (type, (1,)) / '(1,)type'.\n",
      "  _np_quint8 = np.dtype([(\"quint8\", np.uint8, 1)])\n",
      "/Users/nolansmac/anaconda3/lib/python3.7/site-packages/tensorflow/python/framework/dtypes.py:525: FutureWarning: Passing (type, 1) or '1type' as a synonym of type is deprecated; in a future version of numpy, it will be understood as (type, (1,)) / '(1,)type'.\n",
      "  _np_qint16 = np.dtype([(\"qint16\", np.int16, 1)])\n",
      "/Users/nolansmac/anaconda3/lib/python3.7/site-packages/tensorflow/python/framework/dtypes.py:526: FutureWarning: Passing (type, 1) or '1type' as a synonym of type is deprecated; in a future version of numpy, it will be understood as (type, (1,)) / '(1,)type'.\n",
      "  _np_quint16 = np.dtype([(\"quint16\", np.uint16, 1)])\n",
      "/Users/nolansmac/anaconda3/lib/python3.7/site-packages/tensorflow/python/framework/dtypes.py:527: FutureWarning: Passing (type, 1) or '1type' as a synonym of type is deprecated; in a future version of numpy, it will be understood as (type, (1,)) / '(1,)type'.\n",
      "  _np_qint32 = np.dtype([(\"qint32\", np.int32, 1)])\n",
      "/Users/nolansmac/anaconda3/lib/python3.7/site-packages/tensorflow/python/framework/dtypes.py:532: FutureWarning: Passing (type, 1) or '1type' as a synonym of type is deprecated; in a future version of numpy, it will be understood as (type, (1,)) / '(1,)type'.\n",
      "  np_resource = np.dtype([(\"resource\", np.ubyte, 1)])\n",
      "/Users/nolansmac/anaconda3/lib/python3.7/importlib/_bootstrap.py:219: RuntimeWarning: compiletime version 3.6 of module 'tensorflow.python.framework.fast_tensor_util' does not match runtime version 3.7\n",
      "  return f(*args, **kwds)\n"
     ]
    },
    {
     "name": "stdout",
     "output_type": "stream",
     "text": [
      " * Serving Flask app \"__main__\" (lazy loading)\n",
      " * Environment: production\n",
      "   WARNING: This is a development server. Do not use it in a production deployment.\n",
      "   Use a production WSGI server instead.\n",
      " * Debug mode: off\n"
     ]
    },
    {
     "name": "stderr",
     "output_type": "stream",
     "text": [
      " * Running on http://0.0.0.0:8000/ (Press CTRL+C to quit)\n",
      "127.0.0.1 - - [02/Apr/2020 17:47:17] \"\u001b[37mGET / HTTP/1.1\u001b[0m\" 200 -\n",
      "127.0.0.1 - - [02/Apr/2020 17:47:17] \"\u001b[37mGET /swaggerui/swagger-ui.css HTTP/1.1\u001b[0m\" 200 -\n",
      "127.0.0.1 - - [02/Apr/2020 17:47:17] \"\u001b[37mGET /swaggerui/droid-sans.css HTTP/1.1\u001b[0m\" 200 -\n",
      "127.0.0.1 - - [02/Apr/2020 17:47:17] \"\u001b[37mGET /swaggerui/swagger-ui-bundle.js HTTP/1.1\u001b[0m\" 200 -\n",
      "127.0.0.1 - - [02/Apr/2020 17:47:17] \"\u001b[37mGET /swaggerui/swagger-ui-standalone-preset.js HTTP/1.1\u001b[0m\" 200 -\n",
      "127.0.0.1 - - [02/Apr/2020 17:47:18] \"\u001b[37mGET /swagger.json HTTP/1.1\u001b[0m\" 200 -\n",
      "127.0.0.1 - - [02/Apr/2020 17:47:18] \"\u001b[37mGET /swaggerui/favicon-32x32.png HTTP/1.1\u001b[0m\" 200 -\n",
      "127.0.0.1 - - [02/Apr/2020 17:47:22] \"\u001b[37mGET / HTTP/1.1\u001b[0m\" 200 -\n",
      "127.0.0.1 - - [02/Apr/2020 17:47:22] \"\u001b[37mGET /swagger.json HTTP/1.1\u001b[0m\" 200 -\n",
      "127.0.0.1 - - [02/Apr/2020 17:47:22] \"\u001b[37mGET /swaggerui/favicon-32x32.png HTTP/1.1\u001b[0m\" 200 -\n",
      "[2020-04-02 17:47:41,766] ERROR in app: Exception on /Make_School/prediction [POST]\n",
      "Traceback (most recent call last):\n",
      "  File \"/Users/nolansmac/anaconda3/lib/python3.7/site-packages/flask/app.py\", line 1949, in full_dispatch_request\n",
      "    rv = self.dispatch_request()\n",
      "  File \"/Users/nolansmac/anaconda3/lib/python3.7/site-packages/flask/app.py\", line 1935, in dispatch_request\n",
      "    return self.view_functions[rule.endpoint](**req.view_args)\n",
      "  File \"/Users/nolansmac/anaconda3/lib/python3.7/site-packages/flask_restplus/api.py\", line 325, in wrapper\n",
      "    resp = resource(*args, **kwargs)\n",
      "  File \"/Users/nolansmac/anaconda3/lib/python3.7/site-packages/flask/views.py\", line 89, in view\n",
      "    return self.dispatch_request(*args, **kwargs)\n",
      "  File \"/Users/nolansmac/anaconda3/lib/python3.7/site-packages/flask_restplus/resource.py\", line 44, in dispatch_request\n",
      "    resp = meth(*args, **kwargs)\n",
      "  File \"<ipython-input-1-fa9219d7ab20>\", line 46, in post\n",
      "    x = image.reshape(1, 28, 28, 1)\n",
      "ValueError: cannot reshape array of size 3136 into shape (1,28,28,1)\n",
      "127.0.0.1 - - [02/Apr/2020 17:47:41] \"\u001b[1m\u001b[35mPOST /Make_School/prediction HTTP/1.1\u001b[0m\" 500 -\n"
     ]
    },
    {
     "name": "stdout",
     "output_type": "stream",
     "text": [
      "(28, 28, 4)\n"
     ]
    },
    {
     "name": "stderr",
     "output_type": "stream",
     "text": [
      "127.0.0.1 - - [02/Apr/2020 17:51:50] \"\u001b[37mGET / HTTP/1.1\u001b[0m\" 200 -\n",
      "127.0.0.1 - - [02/Apr/2020 17:51:52] \"\u001b[37mGET /swagger.json HTTP/1.1\u001b[0m\" 200 -\n",
      "127.0.0.1 - - [02/Apr/2020 17:52:03] \"\u001b[37mPOST /Make_School/prediction HTTP/1.1\u001b[0m\" 200 -\n"
     ]
    },
    {
     "name": "stdout",
     "output_type": "stream",
     "text": [
      "(28, 28, 1)\n",
      "[1.9974397e-05 1.8968183e-09 4.5539210e-07 3.7727919e-09 1.5818254e-05\n",
      " 2.1756749e-04 9.9974257e-01 2.8080143e-09 3.5185428e-06 1.8631354e-08]\n",
      "6\n"
     ]
    },
    {
     "name": "stderr",
     "output_type": "stream",
     "text": [
      "127.0.0.1 - - [02/Apr/2020 17:53:01] \"\u001b[37mGET / HTTP/1.1\u001b[0m\" 200 -\n",
      "127.0.0.1 - - [02/Apr/2020 17:53:02] \"\u001b[37mGET /swagger.json HTTP/1.1\u001b[0m\" 200 -\n",
      "127.0.0.1 - - [02/Apr/2020 17:53:18] \"\u001b[37mPOST /Make_School/prediction HTTP/1.1\u001b[0m\" 200 -\n"
     ]
    },
    {
     "name": "stdout",
     "output_type": "stream",
     "text": [
      "(28, 28, 1)\n",
      "[1.9974397e-05 1.8968183e-09 4.5539210e-07 3.7727919e-09 1.5818254e-05\n",
      " 2.1756749e-04 9.9974257e-01 2.8080143e-09 3.5185428e-06 1.8631354e-08]\n",
      "6\n"
     ]
    }
   ],
   "source": [
    "# Make a flask API for our DL Model\n",
    "\n",
    "\n",
    "from keras.preprocessing.image import img_to_array\n",
    "from keras.models import load_model\n",
    "from flask_restplus import Api, Resource, fields\n",
    "from flask import Flask, request, jsonify\n",
    "import numpy as np\n",
    "from werkzeug.datastructures import FileStorage\n",
    "from PIL import Image\n",
    "from keras.models import model_from_json\n",
    "import tensorflow as tf\n",
    "\n",
    "\n",
    "app = Flask(__name__)\n",
    "api = Api(app, version='1.0', title='MNIST Classification', description='CNN for Mnist')\n",
    "ns = api.namespace('Make_School', description='Methods')\n",
    "\n",
    "single_parser = api.parser()\n",
    "single_parser.add_argument('file', location='files', type=FileStorage, required=True)\n",
    "\n",
    "model = load_model('my_model.h5')\n",
    "graph = tf.get_default_graph()\n",
    "\n",
    "# Model reconstruction from JSON file\n",
    "# with open('model_architecture.json', 'r') as f:\n",
    "#     model = model_from_json(f.read())\n",
    "#\n",
    "# Load weights into the new model\n",
    "model.load_weights('model_weights.h5')\n",
    "\n",
    "\n",
    "@ns.route('/prediction')\n",
    "class CNNPrediction(Resource):\n",
    "\t\"\"\"Uploads your data to the CNN\"\"\"\n",
    "\t@api.doc(parser=single_parser, description='Upload an mnist image')\n",
    "\tdef post(self):\n",
    "\t\targs = single_parser.parse_args()\n",
    "\t\timage_file = args.file\n",
    "\t\timage_file.save('milad.png')\n",
    "\t\timg = Image.open('milad.png')\n",
    "\t\timage_red = img.resize((28, 28))\n",
    "\t\timage = img_to_array(image_red)\n",
    "\t\tprint(image.shape)\n",
    "\t\tx = image.reshape(1, 28, 28, 1)\n",
    "\t\tx = x/255\n",
    "\n",
    "\t\t# This is not good, because this code implies that the model will be\n",
    "\t\t# loaded each and every time a new request comes in.\n",
    "\t\t# model = load_model('my_model.h5')\n",
    "\t\twith graph.as_default():\n",
    "\t\t\tout = model.predict(x)\n",
    "\t\tprint(out[0])\n",
    "\t\tprint(np.argmax(out[0]))\n",
    "\t\tr = np.argmax(out[0])\n",
    "\n",
    "\t\treturn {'prediction': str(r)}\n",
    "\n",
    "\n",
    "if __name__ == '__main__':\n",
    "\tapp.run(host='0.0.0.0', port=8000)"
   ]
  },
  {
   "cell_type": "markdown",
   "metadata": {},
   "source": [
    "### Third step for Dockerize the Flask API\n",
    "\n",
    "- Make Dockerfile\n",
    "    - Allows to list a succession of commands describing how to build a container\n",
    "    \n",
    "\n",
    "- All the packges needed in `requirements.txt`"
   ]
  },
  {
   "cell_type": "code",
   "execution_count": null,
   "metadata": {},
   "outputs": [],
   "source": [
    "# Dockerfile \n",
    "FROM python:3.6\n",
    "COPY . /app\n",
    "WORKDIR /app\n",
    "RUN pip install -r requirements.txt\n",
    "ENTRYPOINT [\"python\"]\n",
    "CMD [\"flask_example_1.py\"]"
   ]
  },
  {
   "cell_type": "code",
   "execution_count": null,
   "metadata": {},
   "outputs": [],
   "source": [
    "flask\n",
    "flask_restplus\n",
    "tensorflow\n",
    "keras\n",
    "numpy\n",
    "Pillow\n",
    "werkzeug"
   ]
  },
  {
   "cell_type": "markdown",
   "metadata": {},
   "source": [
    "### Fourth step for Dockerize the Flask API"
   ]
  },
  {
   "cell_type": "code",
   "execution_count": null,
   "metadata": {},
   "outputs": [],
   "source": [
    "docker build -t flask_keras_docker:latest .\n",
    "    \n",
    "docker run -d -p 8000:8000 flask_keras_docker"
   ]
  },
  {
   "cell_type": "markdown",
   "metadata": {},
   "source": [
    "#### How to push to DockerHub\n"
   ]
  },
  {
   "cell_type": "code",
   "execution_count": null,
   "metadata": {},
   "outputs": [],
   "source": [
    "To push:\n",
    "docker login\n",
    "docker tag local-image:tagname reponame:tagname\n",
    "docker push reponame:tagname (docker push 88696316/flask_keras:latest)"
   ]
  },
  {
   "cell_type": "markdown",
   "metadata": {},
   "source": [
    "#### How to pull from DockerHub"
   ]
  },
  {
   "cell_type": "code",
   "execution_count": null,
   "metadata": {},
   "outputs": [],
   "source": [
    "docker pull 88696316/flask_keras\n",
    "docker run -p 8000:8000 88696316/flask_keras"
   ]
  },
  {
   "cell_type": "markdown",
   "metadata": {},
   "source": [
    "## How we can deploy the ML or DL model on cloud (AWS)?\n",
    "\n",
    "We use Amazon Elastic Containers Service (ECS)\n",
    "\n",
    "Lets watch: https://www.youtube.com/watch?v=-Vsuzi4OByY\n",
    "\n",
    "1- `login_command=$(aws ecr get-login --no-include-email --region us-east-1)`\n",
    "\n",
    "2- `docker tag flask_keras_docker:latest 312741836182.dkr.ecr.us-east-1.amazonaws.com/flask-keras-on-fargate-aws:latest`\n",
    "\n",
    "3- `docker push 312741836182.dkr.ecr.us-east-1.amazonaws.com/flask-keras-on-fargate-aws:latest`"
   ]
  },
  {
   "cell_type": "markdown",
   "metadata": {},
   "source": [
    "#### Edit Inbound Rule"
   ]
  },
  {
   "cell_type": "markdown",
   "metadata": {},
   "source": [
    "### Useful Docker Commands:"
   ]
  },
  {
   "cell_type": "code",
   "execution_count": null,
   "metadata": {},
   "outputs": [],
   "source": [
    "docker ps -a, docker ps, docker images\n",
    "docker logs <container_id>\n",
    "docker stop <container_id>, docker kill <container_id>"
   ]
  },
  {
   "cell_type": "code",
   "execution_count": null,
   "metadata": {},
   "outputs": [],
   "source": []
  }
 ],
 "metadata": {
  "kernelspec": {
   "display_name": "Python 3",
   "language": "python",
   "name": "python3"
  },
  "language_info": {
   "codemirror_mode": {
    "name": "ipython",
    "version": 3
   },
   "file_extension": ".py",
   "mimetype": "text/x-python",
   "name": "python",
   "nbconvert_exporter": "python",
   "pygments_lexer": "ipython3",
   "version": "3.7.4"
  }
 },
 "nbformat": 4,
 "nbformat_minor": 2
}
